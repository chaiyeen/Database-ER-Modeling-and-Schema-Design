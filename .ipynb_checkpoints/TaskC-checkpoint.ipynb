{
 "cells": [
  {
   "cell_type": "code",
   "execution_count": 91,
   "metadata": {},
   "outputs": [
    {
     "data": {
      "text/plain": [
       "'\\nFILE: skeleton_parser.py\\n------------------\\nAuthor: Firas Abuzaid (fabuzaid@stanford.edu)\\nAuthor: Perth Charernwattanagul (puch@stanford.edu)\\nModified: 04/21/2014\\n\\nSkeleton parser for CS564 programming project 1. Has useful imports and\\nfunctions for parsing, including:\\n\\n1) Directory handling -- the parser takes a list of eBay json files\\nand opens each file inside of a loop. You just need to fill in the rest.\\n2) Dollar value conversions -- the json files store dollar value amounts in\\na string like $3,453.23 -- we provide a function to convert it to a string\\nlike XXXXX.xx.\\n3) Date/time conversions -- the json files store dates/ times in the form\\nMon-DD-YY HH:MM:SS -- we wrote a function (transformDttm) that converts to the\\nfor YYYY-MM-DD HH:MM:SS, which will sort chronologically in SQL.\\n\\nYour job is to implement the parseJson function, which is invoked on each file by\\nthe main function. We create the initial Python dictionary object of items for\\nyou; the rest is up to you!\\nHappy parsing!\\n'"
      ]
     },
     "execution_count": 91,
     "metadata": {},
     "output_type": "execute_result"
    }
   ],
   "source": [
    "\"\"\"\n",
    "FILE: skeleton_parser.py\n",
    "------------------\n",
    "Author: Firas Abuzaid (fabuzaid@stanford.edu)\n",
    "Author: Perth Charernwattanagul (puch@stanford.edu)\n",
    "Modified: 04/21/2014\n",
    "\n",
    "Skeleton parser for CS564 programming project 1. Has useful imports and\n",
    "functions for parsing, including:\n",
    "\n",
    "1) Directory handling -- the parser takes a list of eBay json files\n",
    "and opens each file inside of a loop. You just need to fill in the rest.\n",
    "2) Dollar value conversions -- the json files store dollar value amounts in\n",
    "a string like $3,453.23 -- we provide a function to convert it to a string\n",
    "like XXXXX.xx.\n",
    "3) Date/time conversions -- the json files store dates/ times in the form\n",
    "Mon-DD-YY HH:MM:SS -- we wrote a function (transformDttm) that converts to the\n",
    "for YYYY-MM-DD HH:MM:SS, which will sort chronologically in SQL.\n",
    "\n",
    "Your job is to implement the parseJson function, which is invoked on each file by\n",
    "the main function. We create the initial Python dictionary object of items for\n",
    "you; the rest is up to you!\n",
    "Happy parsing!\n",
    "\"\"\""
   ]
  },
  {
   "cell_type": "code",
   "execution_count": 92,
   "metadata": {},
   "outputs": [],
   "source": [
    "import sys\n",
    "from json import loads\n",
    "from re import sub\n",
    "\n",
    "columnSeparator = \"|\"\n",
    "\n",
    "itemsSeen = set()\n",
    "catsSeen = set()\n",
    "bidsSeen = set()\n",
    "personsSeen=set()\n",
    "        \n",
    "# Dictionary of months used for date transformation\n",
    "MONTHS = {'Jan':'01','Feb':'02','Mar':'03','Apr':'04','May':'05','Jun':'06',\\\n",
    "        'Jul':'07','Aug':'08','Sep':'09','Oct':'10','Nov':'11','Dec':'12'}"
   ]
  },
  {
   "cell_type": "code",
   "execution_count": 93,
   "metadata": {},
   "outputs": [],
   "source": [
    "\"\"\"\n",
    "Returns true if a file ends in .json\n",
    "\"\"\"\n",
    "def isJson(f):\n",
    "    return len(f) > 5 and f[-5:] == '.json'"
   ]
  },
  {
   "cell_type": "code",
   "execution_count": 94,
   "metadata": {},
   "outputs": [],
   "source": [
    "\"\"\"\n",
    "Converts month to a number, e.g. 'Dec' to '12'\n",
    "\"\"\"\n",
    "def transformMonth(mon):\n",
    "    if mon in MONTHS:\n",
    "        return MONTHS[mon]\n",
    "    else:\n",
    "        return mon\n",
    "\n",
    "    "
   ]
  },
  {
   "cell_type": "code",
   "execution_count": 95,
   "metadata": {},
   "outputs": [],
   "source": [
    "\"\"\"\n",
    "Transforms a timestamp from Mon-DD-YY HH:MM:SS to YYYY-MM-DD HH:MM:SS\n",
    "\"\"\"\n",
    "def transformDttm(dttm):\n",
    "    dttm = dttm.strip().split(' ')\n",
    "    dt = dttm[0].split('-')\n",
    "    date = '20' + dt[2] + '-'\n",
    "    date += transformMonth(dt[0]) + '-' + dt[1]\n",
    "    return date + ' ' + dttm[1]"
   ]
  },
  {
   "cell_type": "code",
   "execution_count": 96,
   "metadata": {},
   "outputs": [],
   "source": [
    "\"\"\"\n",
    "Transform a dollar value amount from a string like $3,453.23 to XXXXX.xx\n",
    "\"\"\"\n",
    "\n",
    "def transformDollar(money):\n",
    "    if money == None or len(money) == 0:\n",
    "        return money\n",
    "    return sub(r'[^\\d.]', '', money)"
   ]
  },
  {
   "cell_type": "code",
   "execution_count": 97,
   "metadata": {},
   "outputs": [],
   "source": [
    "\"\"\"\n",
    "escaping qutation marks\n",
    "\"\"\"\n",
    "def transformString(string):\n",
    "    if string==None: return \"\\\"NULL\\\"\"\n",
    "    string= string.strip()\n",
    "    \n",
    "    quotation_line= \"\\\"\"\n",
    "    for s in string:\n",
    "        quotation_line+=s\n",
    "        if s==\"\\\"\": quotation_line+=\"\\\"\"\n",
    "    \n",
    "    quotation_line+=\"\\\"\"\n",
    "    return quotation_line"
   ]
  },
  {
   "cell_type": "code",
   "execution_count": 98,
   "metadata": {},
   "outputs": [],
   "source": [
    "\"\"\"\n",
    "Parses a single json file. Currently, there's a loop that iterates over each\n",
    "item in the data set. Your job is to extend this functionality to create all\n",
    "of the necessary SQL tables for your database.\n",
    "\"\"\"\n",
    "def parseJson(json_file):\n",
    "    with open(json_file, 'r') as f, open('item.dat', 'a') as itemtb, open('category.dat','a') as categorytb, open('bidInfo.dat','a') as bidtb, open('person.dat','a') as persontb:\n",
    "        items = loads(f.read())['Items'] # creates a Python dictionary of Items for the supplied json file\n",
    "        global itemsSeen\n",
    "        global catsSeen\n",
    "        global bidsSeen\n",
    "        global personsSeen\n",
    "        #personsSeen = {}\n",
    "        for item in items:\n",
    "            \"\"\"\n",
    "            TODO: traverse the items dictionary to extract information from the\n",
    "            given `json_file' and generate the necessary .dat files to generate\n",
    "            the SQL tables based on your relation design\n",
    "            \"\"\"\n",
    "            #item table \n",
    "            itemstr= item['ItemID']+\"|\" +transformString(item['Name']) +\"|\"+ transformDollar(item['Currently'])+\"|\"\n",
    "            if(not 'Buy_Price' in item.keys()): itemstr+=\"NULL\"+\"|\"\n",
    "            else: itemstr+=transformString(item['Buy_Price'])+\"|\"\n",
    "                \n",
    "            itemstr+=transformDollar(item['First_Bid'])+\"|\"+item['Number_of_Bids']+\"|\"\n",
    "            itemstr+=transformDttm(item['Started'])+\"|\"+transformDttm(item['Ends'])+\"|\"\n",
    "            itemstr+=transformString(item['Seller']['UserID'])+\"|\"+transformString(item['Description'])\n",
    "            \n",
    "            if(itemstr not in itemsSeen):\n",
    "                itemsSeen.add(itemstr)\n",
    "                itemstr+='\\n'\n",
    "                itemtb.write(itemstr)\n",
    "            \n",
    "            \n",
    "            # category table \n",
    "            for c in item['Category']:\n",
    "                catstr = item['ItemID']+\"|\"+transformString(c)\n",
    "                if(catstr not in catsSeen):\n",
    "                    catsSeen.add(catstr)\n",
    "                    catstr = str(len(catsSeen))+\"|\"+catstr+\"\\n\"\n",
    "                    categorytb.write(catstr)\n",
    "                \n",
    "                \n",
    "            # seller info > person \n",
    "            pstr=transformString(item['Seller']['UserID'])\n",
    "            pstr+=\"|\"+item['Seller']['Rating']+\"|\"\n",
    "            \n",
    "            if(pstr not in personsSeen):\n",
    "                personsSeen.add(pstr)\n",
    "                if(not 'Location' in item.keys()): pstr+= \"\\\"NULL\\\"\"+\"|\"\n",
    "                else: pstr+= transformString(item['Location'])+\"|\"\n",
    "\n",
    "                if(not 'Country' in item.keys()): pstr+= \"\\\"NULL\\\"\"+'\\n'\n",
    "                else: pstr+= transformString(item['Country'])+\"\\n\"\n",
    "                        \n",
    "                persontb.write(pstr)\n",
    "#             if pstr not in personsSeen:\n",
    "#                 personsSeen[pstr] = [1, 0]\n",
    "#             else:\n",
    "#                 personsSeen[pstr][0] = 1\n",
    "            \n",
    "            \n",
    "            \n",
    "            # bid information table \n",
    "            # bidder - person \n",
    "            if(item['Bids']!=None):\n",
    "                for b in item['Bids']:\n",
    "                    # bid info\n",
    "                    bstr= item['ItemID']+\"|\"+transformString(b['Bid']['Bidder']['UserID'])+\"|\"+transformDollar(b['Bid']['Amount']) +\"|\"+ transformDttm(b['Bid']['Time'])                  \n",
    "                    if(bstr not in bidsSeen):\n",
    "                        bidsSeen.add(bstr)\n",
    "                        bstr = str(len(bidsSeen))+\"|\"+bstr+\"\\n\"\n",
    "                        bidtb.write(bstr)\n",
    "\n",
    "                    # bidder\n",
    "                    pstr= transformString(b['Bid']['Bidder']['UserID'])+\"|\"+b['Bid']['Bidder']['Rating']+\"|\"\n",
    "\n",
    "                    \n",
    "                    \n",
    "                    \n",
    "                    if(pstr not in personsSeen):\n",
    "                        personsSeen.add(pstr)\n",
    "                        \n",
    "                        if(not 'Location' in b['Bid']['Bidder'].keys()): pstr+= 'NULL'+\"|\"\n",
    "                        else: pstr+= transformString(b['Bid']['Bidder']['Location'])+\"|\"\n",
    "\n",
    "                        if(not 'Country' in b['Bid']['Bidder'].keys()): pstr+= 'NULL'+'\\n'\n",
    "                        else: pstr+= transformString(b['Bid']['Bidder']['Country'])+\"\\n\"\n",
    "                        \n",
    "                        persontb.write(pstr)\n",
    "#                     if pstr not in personsSeen:\n",
    "#                         personsSeen[pstr] = [0, 1]\n",
    "#                     else:\n",
    "#                         personsSeen[pstr][1] = 1\n",
    "            pass\n",
    "        \n",
    "        # write persons\n",
    "#         for key in personsSeen:\n",
    "#             pstr = key+\"|\"+str(personsSeen[key][0])+\"|\"+str(personsSeen[key][1])+\"\\n\"\n",
    "#             persontb.write(pstr)\n",
    "        \n",
    "        itemtb.close()\n",
    "        categorytb.close()\n",
    "        bidtb.close()\n",
    "        persontb.close()"
   ]
  },
  {
   "cell_type": "code",
   "execution_count": 99,
   "metadata": {
    "scrolled": true
   },
   "outputs": [
    {
     "name": "stdout",
     "output_type": "stream",
     "text": [
      "Success parsing items-0.json\n"
     ]
    }
   ],
   "source": [
    "\"\"\"\n",
    "Loops through each json files provided on the command line and passes each file\n",
    "to the parser\n",
    "\"\"\"\n",
    "def main(argv):\n",
    "    if len(argv) < 2:\n",
    "        print >> sys.stderr, 'Usage: python skeleton_json_parser.py <path to json files>'\n",
    "        sys.exit(1)\n",
    "    # loops over all .json files in the argument\n",
    "    for f in argv[1:]:\n",
    "        if isJson(f):\n",
    "            parseJson(f)\n",
    "            print(\"Success parsing \" + f)\n",
    "\n",
    "if __name__ == '__main__':\n",
    "#    main(sys.argv)\n",
    "     main([0,\"items-0.json\"])"
   ]
  },
  {
   "cell_type": "code",
   "execution_count": null,
   "metadata": {},
   "outputs": [],
   "source": []
  },
  {
   "cell_type": "code",
   "execution_count": null,
   "metadata": {},
   "outputs": [],
   "source": []
  },
  {
   "cell_type": "code",
   "execution_count": null,
   "metadata": {},
   "outputs": [],
   "source": []
  },
  {
   "cell_type": "code",
   "execution_count": null,
   "metadata": {},
   "outputs": [],
   "source": []
  },
  {
   "cell_type": "code",
   "execution_count": null,
   "metadata": {},
   "outputs": [],
   "source": []
  }
 ],
 "metadata": {
  "kernelspec": {
   "display_name": "Python 3",
   "language": "python",
   "name": "python3"
  },
  "language_info": {
   "codemirror_mode": {
    "name": "ipython",
    "version": 3
   },
   "file_extension": ".py",
   "mimetype": "text/x-python",
   "name": "python",
   "nbconvert_exporter": "python",
   "pygments_lexer": "ipython3",
   "version": "3.8.10"
  }
 },
 "nbformat": 4,
 "nbformat_minor": 5
}
