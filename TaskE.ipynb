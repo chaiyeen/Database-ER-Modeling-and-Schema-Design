{
 "cells": [
  {
   "cell_type": "code",
   "execution_count": 1,
   "id": "910280df",
   "metadata": {},
   "outputs": [
    {
     "data": {
      "text/plain": [
       "'Connected: @category.db'"
      ]
     },
     "execution_count": 1,
     "metadata": {},
     "output_type": "execute_result"
    }
   ],
   "source": [
    "%load_ext sql\n",
    "%sql sqlite:///category.db\n",
    "%sql sqlite:///person.db\n",
    "%sql sqlite:///bidInfo.db\n",
    "%sql sqlite:///item.db"
   ]
  },
  {
   "cell_type": "code",
   "execution_count": 2,
   "id": "47066a33",
   "metadata": {},
   "outputs": [
    {
     "name": "stdout",
     "output_type": "stream",
     "text": [
      " * sqlite:///category.db\n",
      "Done.\n"
     ]
    },
    {
     "data": {
      "text/html": [
       "<table>\n",
       "    <thead>\n",
       "        <tr>\n",
       "            <th>ItemID</th>\n",
       "            <th>subCategory</th>\n",
       "        </tr>\n",
       "    </thead>\n",
       "    <tbody>\n",
       "        <tr>\n",
       "            <td>1043374545</td>\n",
       "            <td>Collectibles</td>\n",
       "        </tr>\n",
       "        <tr>\n",
       "            <td>1043374545</td>\n",
       "            <td>Decorative &amp; Holiday</td>\n",
       "        </tr>\n",
       "        <tr>\n",
       "            <td>1043374545</td>\n",
       "            <td>Decorative by Brand</td>\n",
       "        </tr>\n",
       "        <tr>\n",
       "            <td>1043374545</td>\n",
       "            <td>Christopher Radko</td>\n",
       "        </tr>\n",
       "    </tbody>\n",
       "</table>"
      ],
      "text/plain": [
       "[(1043374545, 'Collectibles'),\n",
       " (1043374545, 'Decorative & Holiday'),\n",
       " (1043374545, 'Decorative by Brand'),\n",
       " (1043374545, 'Christopher Radko')]"
      ]
     },
     "execution_count": 2,
     "metadata": {},
     "output_type": "execute_result"
    }
   ],
   "source": [
    "#1 Find the number of users in the database.\n",
    "%%sql SELECT COUNT(*) \n",
    "FROM person;"
   ]
  },
  {
   "cell_type": "code",
   "execution_count": null,
   "id": "d3918f32",
   "metadata": {},
   "outputs": [],
   "source": [
    "#2 Find the number of users from New York (i.e., users whose location is the string \"New York\")\n",
    "%%sql SELECT COUNT(*) \n",
    "FROM person\n",
    "WHERE Location = \"New York\";"
   ]
  },
  {
   "cell_type": "code",
   "execution_count": null,
   "id": "d68076dc",
   "metadata": {},
   "outputs": [],
   "source": [
    "#3 Find the number of auctions belonging to exactly four categories\n",
    "%%sql \n",
    "SELECT COUNT(*)\n",
    "FROM (\n",
    "    SELECT ItemID, COUNT(*) AS \"Count\"\n",
    "    FROM bidInfo\n",
    "    GROUP BY ItemID) AS catCount\n",
    "WHERE Count = 4;"
   ]
  },
  {
   "cell_type": "code",
   "execution_count": null,
   "id": "be573d94",
   "metadata": {},
   "outputs": [],
   "source": [
    "#4 Find the ID(s) of auction(s) with the highest current price.\n",
    "%%sql SELECT ItemID, MAX(CurPrice) \n",
    "FROM bidInfo;"
   ]
  },
  {
   "cell_type": "code",
   "execution_count": null,
   "id": "c1bb748f",
   "metadata": {},
   "outputs": [],
   "source": [
    "#5 Find the number of sellers whose rating is higher than 1000.\n",
    "%%sql SELECT COUNT(*) \n",
    "FROM person\n",
    "WHERE IsSeller = 1 AND Rating > 1000;"
   ]
  },
  {
   "cell_type": "code",
   "execution_count": null,
   "id": "5a847984",
   "metadata": {},
   "outputs": [],
   "source": [
    "#6 Find the number of users who are both sellers and bidders.\n",
    "%%sql SELECT COUNT(*) \n",
    "FROM person\n",
    "WHERE IsSeller = 1 AND IsBidder = 1;"
   ]
  },
  {
   "cell_type": "code",
   "execution_count": null,
   "id": "3b310186",
   "metadata": {},
   "outputs": [],
   "source": [
    "#7 Find the number of categories that include at least one item with a bid of more than $100.\n",
    "%%sql \n",
    "SELECT COUNT(*)\n",
    "FROM (\n",
    "    SELECT itemID, MAX(Price)\n",
    "    FROM BidInfo\n",
    "    WHERE Amount > 100\n",
    "    GROUP BY ItemID) AS hundredBid,\n",
    "    category\n",
    "WHERE category.itemID = hundredBid.itemID\n",
    "GROUP BY category.type;"
   ]
  }
 ],
 "metadata": {
  "kernelspec": {
   "display_name": "Python 3 (ipykernel)",
   "language": "python",
   "name": "python3"
  },
  "language_info": {
   "codemirror_mode": {
    "name": "ipython",
    "version": 3
   },
   "file_extension": ".py",
   "mimetype": "text/x-python",
   "name": "python",
   "nbconvert_exporter": "python",
   "pygments_lexer": "ipython3",
   "version": "3.9.7"
  }
 },
 "nbformat": 4,
 "nbformat_minor": 5
}
